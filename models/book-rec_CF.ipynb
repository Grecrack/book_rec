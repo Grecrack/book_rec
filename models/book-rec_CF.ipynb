{
 "cells": [
  {
   "cell_type": "code",
   "execution_count": 2,
   "metadata": {},
   "outputs": [],
   "source": [
    "import pandas as pd\n",
    "from surprise import Dataset\n",
    "from surprise import Reader"
   ]
  },
  {
   "cell_type": "code",
   "execution_count": 3,
   "metadata": {},
   "outputs": [
    {
     "name": "stdout",
     "output_type": "stream",
     "text": [
      "   User-ID        ISBN  Book-Rating\n",
      "0   276725  034545104X            0\n",
      "1   276726  0155061224            5\n",
      "2   276727  0446520802            0\n",
      "3   276729  052165615X            3\n",
      "4   276729  0521795028            6\n"
     ]
    }
   ],
   "source": [
    "import pandas as pd\n",
    "from surprise import Dataset\n",
    "from surprise import Reader\n",
    "\n",
    "# Load the dataset\n",
    "ratings_df = pd.read_csv('Data/BX-Book-Ratings.csv', sep=';', encoding='latin-1')\n",
    "\n",
    "# The ratings data consists of three columns: User-ID, ISBN, and Book-Rating\n",
    "print(ratings_df.head())"
   ]
  },
  {
   "cell_type": "code",
   "execution_count": 4,
   "metadata": {},
   "outputs": [],
   "source": [
    "# Drop the rows with missing values\n",
    "ratings_df = ratings_df.dropna()\n",
    "\n",
    "# We'll only use the ratings given by users who have rated at least 5 books\n",
    "ratings_df = ratings_df.groupby('User-ID').filter(lambda x: len(x) >= 5)\n"
   ]
  },
  {
   "cell_type": "code",
   "execution_count": 7,
   "metadata": {},
   "outputs": [
    {
     "name": "stdout",
     "output_type": "stream",
     "text": [
      "Evaluating RMSE, MAE of algorithm SVD on 5 split(s).\n",
      "\n",
      "                  Fold 1  Fold 2  Fold 3  Fold 4  Fold 5  Mean    Std     \n",
      "RMSE (testset)    3.4070  3.4107  3.4211  3.4140  3.4118  3.4129  0.0047  \n",
      "MAE (testset)     2.8144  2.8156  2.8239  2.8188  2.8148  2.8175  0.0036  \n",
      "Fit time          10.02   9.90    9.91    9.83    9.95    9.92    0.06    \n",
      "Test time         1.27    1.29    1.27    1.55    1.32    1.34    0.11    \n"
     ]
    },
    {
     "data": {
      "text/plain": [
       "{'test_rmse': array([3.40702702, 3.41071809, 3.4210543 , 3.41403104, 3.41179141]),\n",
       " 'test_mae': array([2.8143826 , 2.8155709 , 2.82394718, 2.81875027, 2.81475428]),\n",
       " 'fit_time': (10.017573595046997,\n",
       "  9.897019147872925,\n",
       "  9.90852689743042,\n",
       "  9.828490495681763,\n",
       "  9.952411890029907),\n",
       " 'test_time': (1.2739458084106445,\n",
       "  1.2939579486846924,\n",
       "  1.2709250450134277,\n",
       "  1.5505163669586182,\n",
       "  1.3206892013549805)}"
      ]
     },
     "execution_count": 7,
     "metadata": {},
     "output_type": "execute_result"
    }
   ],
   "source": [
    "from surprise import SVD\n",
    "from surprise.model_selection import cross_validate\n",
    "\n",
    "# Prepare the data to be used in Surprise\n",
    "reader = Reader(rating_scale=(1, 10))\n",
    "data = Dataset.load_from_df(ratings_df[['User-ID', 'ISBN', 'Book-Rating']], reader)\n",
    "\n",
    "# Use the SVD algorithm.\n",
    "algo = SVD()\n",
    "\n",
    "# Perform 5-fold cross-validation\n",
    "cross_validate(algo, data, measures=['RMSE', 'MAE'], cv=5, verbose=True)\n"
   ]
  },
  {
   "cell_type": "code",
   "execution_count": 6,
   "metadata": {},
   "outputs": [
    {
     "name": "stdout",
     "output_type": "stream",
     "text": [
      "user: 12345      item: 1234567890 r_ui = None   est = 2.68   {'was_impossible': False}\n"
     ]
    }
   ],
   "source": [
    "uid = str(12345)  # raw user id\n",
    "iid = str('1234567890')  # raw item id\n",
    "\n",
    "# get a prediction for specific users and items.\n",
    "pred = algo.predict(uid, iid, verbose=True)"
   ]
  },
  {
   "cell_type": "code",
   "execution_count": null,
   "metadata": {},
   "outputs": [],
   "source": []
  }
 ],
 "metadata": {
  "kernelspec": {
   "display_name": "rtx_env",
   "language": "python",
   "name": "python3"
  },
  "language_info": {
   "codemirror_mode": {
    "name": "ipython",
    "version": 3
   },
   "file_extension": ".py",
   "mimetype": "text/x-python",
   "name": "python",
   "nbconvert_exporter": "python",
   "pygments_lexer": "ipython3",
   "version": "3.7.12"
  },
  "orig_nbformat": 4
 },
 "nbformat": 4,
 "nbformat_minor": 2
}
