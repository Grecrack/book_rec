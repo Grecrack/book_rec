{
 "cells": [
  {
   "cell_type": "code",
   "execution_count": 3,
   "metadata": {},
   "outputs": [
    {
     "name": "stderr",
     "output_type": "stream",
     "text": [
      "b'Skipping line 6452: expected 8 fields, saw 9\\nSkipping line 43667: expected 8 fields, saw 10\\nSkipping line 51751: expected 8 fields, saw 9\\n'\n",
      "b'Skipping line 92038: expected 8 fields, saw 9\\nSkipping line 104319: expected 8 fields, saw 9\\nSkipping line 121768: expected 8 fields, saw 9\\n'\n",
      "b'Skipping line 144058: expected 8 fields, saw 9\\nSkipping line 150789: expected 8 fields, saw 9\\nSkipping line 157128: expected 8 fields, saw 9\\nSkipping line 180189: expected 8 fields, saw 9\\nSkipping line 185738: expected 8 fields, saw 9\\n'\n",
      "b'Skipping line 209388: expected 8 fields, saw 9\\nSkipping line 220626: expected 8 fields, saw 9\\nSkipping line 227933: expected 8 fields, saw 11\\nSkipping line 228957: expected 8 fields, saw 10\\nSkipping line 245933: expected 8 fields, saw 9\\nSkipping line 251296: expected 8 fields, saw 9\\nSkipping line 259941: expected 8 fields, saw 9\\nSkipping line 261529: expected 8 fields, saw 9\\n'\n"
     ]
    },
    {
     "name": "stdout",
     "output_type": "stream",
     "text": [
      "No recommended books found.\n",
      "\n",
      "Top 10 recommended books:\n",
      "Empty DataFrame\n",
      "Columns: [ISBN, Book-Title, Book-Author]\n",
      "Index: []\n"
     ]
    }
   ],
   "source": [
    "import pandas as pd\n",
    "import numpy as np\n",
    "import tensorflow as tf\n",
    "from tensorflow.keras import layers\n",
    "import warnings\n",
    "warnings.filterwarnings('ignore')\n",
    "\n",
    "# Load preprocessed data and trained model\n",
    "data = pd.read_csv('data/preprocessed_data.csv')\n",
    "model = tf.keras.models.load_model('data/trained_model.h5')\n",
    "\n",
    "# Load the books dataset\n",
    "books = pd.read_csv('data/BX-Books.csv', sep=';', encoding='latin-1', error_bad_lines=False)\n",
    "\n",
    "# Get the unique user IDs and book ISBNs\n",
    "user_ids = data['User-ID'].unique()\n",
    "book_isbns = data['ISBN'].unique()\n",
    "\n",
    "# Create a mapping for user IDs and book ISBNs to integers\n",
    "user_to_int = {user_id: i for i, user_id in enumerate(user_ids)}\n",
    "book_to_int = {isbn: i for i, isbn in enumerate(book_isbns)}\n",
    "\n",
    "# Create a reverse mapping for integer user IDs and book ISBNs\n",
    "int_to_user = {i: user_id for i, user_id in enumerate(user_ids)}\n",
    "int_to_book = {i: isbn for i, isbn in enumerate(book_isbns)}\n",
    "\n",
    "# Function to get top N recommendations for a user\n",
    "def recommend_books(user_id, n=10):\n",
    "    if user_id not in user_to_int:\n",
    "        print(f\"User ID {user_id} not found in the dataset.\")\n",
    "        return pd.DataFrame()\n",
    "\n",
    "    user_int = user_to_int[user_id]\n",
    "    user_vector = np.array([user_int] * len(book_isbns))\n",
    "    book_vector = np.arange(len(book_isbns))\n",
    "\n",
    "    # Predict the ratings\n",
    "    predictions = model.predict([user_vector, book_vector]).flatten()\n",
    "\n",
    "    # Get the indices of the top N predictions\n",
    "    top_n_indices = predictions.argsort()[-n:][::-1]\n",
    "\n",
    "    # Get the corresponding book ISBNs\n",
    "    top_n_isbns = [int_to_book[i] for i in top_n_indices]\n",
    "\n",
    "    # Return the top N recommended books\n",
    "    recommended_books = books[books['ISBN'].apply(lambda x: x in top_n_isbns)]\n",
    "\n",
    "    if recommended_books.empty:\n",
    "        print(\"No recommended books found.\")\n",
    "    return recommended_books\n",
    "\n",
    "# Demo: input a user ID and get book recommendations\n",
    "user_id = int(input(\"Enter a user ID: \"))\n",
    "recommended_books = recommend_books(user_id)\n",
    "print(\"\\nTop 10 recommended books:\")\n",
    "print(recommended_books[['ISBN', 'Book-Title', 'Book-Author']])"
   ]
  },
  {
   "cell_type": "code",
   "execution_count": 5,
   "metadata": {},
   "outputs": [
    {
     "ename": "NameError",
     "evalue": "name 'csr_matrix' is not defined",
     "output_type": "error",
     "traceback": [
      "\u001b[1;31m---------------------------------------------------------------------------\u001b[0m",
      "\u001b[1;31mNameError\u001b[0m                                 Traceback (most recent call last)",
      "\u001b[1;32m~\\AppData\\Local\\Temp\\ipykernel_9196\\2523024420.py\u001b[0m in \u001b[0;36m<module>\u001b[1;34m\u001b[0m\n\u001b[0;32m      7\u001b[0m \u001b[1;33m\u001b[0m\u001b[0m\n\u001b[0;32m      8\u001b[0m \u001b[1;31m# Create a sparse matrix for more efficient calculations\u001b[0m\u001b[1;33m\u001b[0m\u001b[1;33m\u001b[0m\u001b[1;33m\u001b[0m\u001b[0m\n\u001b[1;32m----> 9\u001b[1;33m \u001b[0msparse_matrix\u001b[0m \u001b[1;33m=\u001b[0m \u001b[0mcsr_matrix\u001b[0m\u001b[1;33m(\u001b[0m\u001b[0muser_item_matrix\u001b[0m\u001b[1;33m.\u001b[0m\u001b[0mvalues\u001b[0m\u001b[1;33m)\u001b[0m\u001b[1;33m\u001b[0m\u001b[1;33m\u001b[0m\u001b[0m\n\u001b[0m\u001b[0;32m     10\u001b[0m \u001b[1;33m\u001b[0m\u001b[0m\n\u001b[0;32m     11\u001b[0m \u001b[1;31m# Calculate the cosine similarity between users\u001b[0m\u001b[1;33m\u001b[0m\u001b[1;33m\u001b[0m\u001b[1;33m\u001b[0m\u001b[0m\n",
      "\u001b[1;31mNameError\u001b[0m: name 'csr_matrix' is not defined"
     ]
    }
   ],
   "source": [
    "# Load the data\n",
    "data = pd.read_csv('data/preprocessed_data.csv')\n",
    "books = pd.read_csv('data/BX-Books.csv', sep=';', error_bad_lines=False, encoding=\"latin-1\", warn_bad_lines=False)\n",
    "\n",
    "# Pivot the ratings data to create a user-item matrix\n",
    "user_item_matrix = data.pivot_table(index='User-ID', columns='ISBN', values='Book-Rating').fillna(0)\n",
    "\n",
    "# Create a sparse matrix for more efficient calculations\n",
    "sparse_matrix = csr_matrix(user_item_matrix.values)\n",
    "\n",
    "# Calculate the cosine similarity between users\n",
    "user_similarity = cosine_similarity(sparse_matrix)\n",
    "\n",
    "def recommend_books(user_id, n=10):\n",
    "    if user_id not in user_item_matrix.index:\n",
    "        print(f\"User ID {user_id} not found in the dataset.\")\n",
    "        return pd.DataFrame()\n",
    "\n",
    "    # Find the index of the user in the user-item matrix\n",
    "    user_index = user_item_matrix.index.get_loc(user_id)\n",
    "\n",
    "    # Get the similarity scores of the user with all other users\n",
    "    similarity_scores = user_similarity[user_index]\n",
    "\n",
    "    # Calculate the weighted average of ratings based on similarity scores\n",
    "    weighted_sum = np.dot(similarity_scores, user_item_matrix.values)\n",
    "    sum_of_weights = np.array([np.abs(similarity_scores).sum()] * user_item_matrix.shape[1])\n",
    "    predicted_ratings = weighted_sum / sum_of_weights\n",
    "\n",
    "    # Get the indices of the top N highest predicted ratings\n",
    "    top_n_indices = predicted_ratings.argsort()[-n:][::-1]\n",
    "\n",
    "    # Get the corresponding book ISBNs\n",
    "    top_n_isbns = user_item_matrix.columns[top_n_indices]\n",
    "\n",
    "    # Return the top N recommended books\n",
    "    return books[books['ISBN'].apply(lambda x: x in top_n_isbns)]\n",
    "\n",
    "# Demo: input a user ID and get book recommendations\n",
    "user_id = int(input(\"Enter a user ID: \"))\n",
    "recommended_books = recommend_books(user_id)\n",
    "print(\"\\nTop 10 recommended books:\")\n",
    "print(recommended_books[['ISBN', 'Book-Title', 'Book-Author']])"
   ]
  },
  {
   "cell_type": "code",
   "execution_count": null,
   "metadata": {},
   "outputs": [],
   "source": []
  }
 ],
 "metadata": {
  "kernelspec": {
   "display_name": "rtx_env",
   "language": "python",
   "name": "python3"
  },
  "language_info": {
   "codemirror_mode": {
    "name": "ipython",
    "version": 3
   },
   "file_extension": ".py",
   "mimetype": "text/x-python",
   "name": "python",
   "nbconvert_exporter": "python",
   "pygments_lexer": "ipython3",
   "version": "3.7.12"
  },
  "orig_nbformat": 4
 },
 "nbformat": 4,
 "nbformat_minor": 2
}
