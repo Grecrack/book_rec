{
 "cells": [
  {
   "cell_type": "code",
   "execution_count": 1,
   "metadata": {},
   "outputs": [
    {
     "name": "stdout",
     "output_type": "stream",
     "text": [
      "   anime_id                              name  \\\n",
      "0     32281                    Kimi no Na wa.   \n",
      "1      5114  Fullmetal Alchemist: Brotherhood   \n",
      "2     28977                          Gintama°   \n",
      "3      9253                       Steins;Gate   \n",
      "4      9969                     Gintama&#039;   \n",
      "\n",
      "                                               genre   type episodes  rating  \\\n",
      "0               Drama, Romance, School, Supernatural  Movie        1    9.37   \n",
      "1  Action, Adventure, Drama, Fantasy, Magic, Mili...     TV       64    9.26   \n",
      "2  Action, Comedy, Historical, Parody, Samurai, S...     TV       51    9.25   \n",
      "3                                   Sci-Fi, Thriller     TV       24    9.17   \n",
      "4  Action, Comedy, Historical, Parody, Samurai, S...     TV       51    9.16   \n",
      "\n",
      "   members  \n",
      "0   200630  \n",
      "1   793665  \n",
      "2   114262  \n",
      "3   673572  \n",
      "4   151266  \n",
      "           anime_id        rating       members\n",
      "count  12294.000000  12064.000000  1.229400e+04\n",
      "mean   14058.221653      6.473902  1.807134e+04\n",
      "std    11455.294701      1.026746  5.482068e+04\n",
      "min        1.000000      1.670000  5.000000e+00\n",
      "25%     3484.250000      5.880000  2.250000e+02\n",
      "50%    10260.500000      6.570000  1.550000e+03\n",
      "75%    24794.500000      7.180000  9.437000e+03\n",
      "max    34527.000000     10.000000  1.013917e+06\n"
     ]
    }
   ],
   "source": [
    "import pandas as pd\n",
    "\n",
    "anime_df = pd.read_csv('Data/anime/anime.csv')\n",
    "\n",
    "print(anime_df.head())\n",
    "print(anime_df.describe())"
   ]
  },
  {
   "cell_type": "code",
   "execution_count": 2,
   "metadata": {},
   "outputs": [],
   "source": [
    "anime_df = anime_df.dropna()\n",
    "\n",
    "# Convert the 'genre' column to a list of genres\n",
    "anime_df['genre'] = anime_df['genre'].apply(lambda x: x.split(', '))\n",
    "\n",
    "# One-hot encode the genres\n",
    "anime_df = anime_df.join(anime_df.pop('genre').str.join('|').str.get_dummies())"
   ]
  },
  {
   "cell_type": "code",
   "execution_count": 3,
   "metadata": {},
   "outputs": [],
   "source": [
    "from sklearn.metrics.pairwise import cosine_similarity\n",
    "\n",
    "# Compute the cosine similarity matrix\n",
    "cosine_sim = cosine_similarity(anime_df.drop(['name', 'anime_id', 'type', 'episodes', 'rating', 'members'], axis=1))\n",
    "\n",
    "# Create a lookup table to get anime names from their indices and vice versa\n",
    "indices = pd.Series(anime_df.index, index=anime_df['name']).drop_duplicates()"
   ]
  },
  {
   "cell_type": "code",
   "execution_count": 4,
   "metadata": {},
   "outputs": [],
   "source": [
    "def recommend_anime(name, cosine_sim=cosine_sim):\n",
    "    # Get the index of the anime\n",
    "    idx = indices[name]\n",
    "\n",
    "    # Get the pairwsie similarity scores of all animes with that anime\n",
    "    sim_scores = list(enumerate(cosine_sim[idx]))\n",
    "\n",
    "    # Sort the animes based on the similarity scores\n",
    "    sim_scores = sorted(sim_scores, key=lambda x: x[1], reverse=True)\n",
    "\n",
    "    # Get the scores of the 10 most similar animes\n",
    "    sim_scores = sim_scores[1:11]\n",
    "\n",
    "    # Get the anime indices\n",
    "    anime_indices = [i[0] for i in sim_scores]\n",
    "\n",
    "    # Return the top 10 most similar animes\n",
    "    return anime_df['name'].iloc[anime_indices]\n"
   ]
  },
  {
   "cell_type": "code",
   "execution_count": 5,
   "metadata": {},
   "outputs": [
    {
     "name": "stdout",
     "output_type": "stream",
     "text": [
      "615                                    Naruto: Shippuuden\n",
      "841                                                Naruto\n",
      "1103    Boruto: Naruto the Movie - Naruto ga Hokage ni...\n",
      "1343                                          Naruto x UT\n",
      "1472          Naruto: Shippuuden Movie 4 - The Lost Tower\n",
      "1573    Naruto: Shippuuden Movie 3 - Hi no Ishi wo Tsu...\n",
      "2458                 Naruto Shippuuden: Sunny Side Battle\n",
      "2997    Naruto Soyokazeden Movie: Naruto to Mashin to ...\n",
      "175                                Katekyo Hitman Reborn!\n",
      "7628                              Kyutai Panic Adventure!\n",
      "Name: name, dtype: object\n"
     ]
    }
   ],
   "source": [
    "print(recommend_anime('Naruto'))"
   ]
  },
  {
   "cell_type": "code",
   "execution_count": null,
   "metadata": {},
   "outputs": [],
   "source": []
  }
 ],
 "metadata": {
  "kernelspec": {
   "display_name": "rtx_env",
   "language": "python",
   "name": "python3"
  },
  "language_info": {
   "codemirror_mode": {
    "name": "ipython",
    "version": 3
   },
   "file_extension": ".py",
   "mimetype": "text/x-python",
   "name": "python",
   "nbconvert_exporter": "python",
   "pygments_lexer": "ipython3",
   "version": "3.7.12"
  },
  "orig_nbformat": 4
 },
 "nbformat": 4,
 "nbformat_minor": 2
}
