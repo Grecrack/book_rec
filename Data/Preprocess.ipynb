{
 "cells": [
  {
   "attachments": {},
   "cell_type": "markdown",
   "metadata": {},
   "source": [
    "# Import the necessary  Libraries\n",
    "- Pandas: Used for data manipulation and analysis.\n",
    "- Requests: Used for making HTTP requests and interacting with web APIs.\n",
    "- Re: Provides support for regular expressions in Python."
   ]
  },
  {
   "cell_type": "code",
   "execution_count": null,
   "metadata": {},
   "outputs": [],
   "source": [
    "import pandas as pd\n",
    "import requests, re"
   ]
  },
  {
   "attachments": {},
   "cell_type": "markdown",
   "metadata": {},
   "source": [
    "# Load data\n",
    "The code snippet reads the data from two CSV files, `ratings.csv` and `books.csv`, and creates pandas DataFrames.\n",
    "\n",
    "1. `pd.read_csv('../Data/training/ratings.csv')`: This line reads the data from the `ratings.csv` file located at `'../Data/training/ratings.csv'` using the `pd.read_csv()` function from the pandas library. The data is loaded into a DataFrame named `ratings`.\n",
    "\n",
    "2. `pd.read_csv('../Data/training/books.csv')`: Similarly, this line reads the data from the `books.csv` file located at `'../Data/training/books.csv'` and stores it in a DataFrame named `books`.\n",
    "\n",
    "3. `pd.Series(books.title.values, index=books.index).to_dict()`: In this line, a Series object is created using the values from the \"title\" column of the `books` DataFrame. The `.values` attribute retrieves the values as an array, and the `.index` attribute provides the index for the Series, which is taken from the index of the `books` DataFrame. The resulting Series is then converted into a dictionary using the `.to_dict()` method. The resulting dictionary, named `book_id_to_name`, maps the index of each book to its corresponding title.\n",
    "\n",
    "By executing this code, the `ratings` DataFrame is populated with the data from the `ratings.csv` file, the `books` DataFrame is populated with the data from the `books.csv` file, and the `book_id_to_name` dictionary is created to map the index of each book to its title."
   ]
  },
  {
   "cell_type": "code",
   "execution_count": null,
   "metadata": {},
   "outputs": [],
   "source": [
    "ratings = pd.read_csv('training/ratings.csv')\n",
    "books = pd.read_csv('training/books.csv')"
   ]
  },
  {
   "attachments": {},
   "cell_type": "markdown",
   "metadata": {},
   "source": [
    "We print the first few records and a summary of the data for a quick examination."
   ]
  },
  {
   "cell_type": "code",
   "execution_count": null,
   "metadata": {},
   "outputs": [],
   "source": [
    "print(ratings.head())\n",
    "print(ratings.describe())"
   ]
  },
  {
   "attachments": {},
   "cell_type": "markdown",
   "metadata": {},
   "source": [
    "# Analyzing User Ratings and Rating Count Thresholds\n",
    "\n",
    "1. `user_ratings = ratings.groupby('user_id')['rating'].count()`: This line groups the 'ratings' DataFrame by the 'user_id' column and counts the number of ratings for each user, creating a Series object named 'user_ratings'. Each value in the Series represents the count of ratings for a specific user.\n",
    "\n",
    "2. `user_rating_counts = ratings['user_id'].value_counts()`: This line counts the occurrences of each unique user ID in the 'user_id' column of the 'ratings' DataFrame and creates another Series object named 'user_rating_counts'. The resulting Series provides the count of ratings for each user ID.\n",
    "\n",
    "3. `users_with_ratings = user_rating_counts.groupby(user_ratings).count()`: Here, the 'user_rating_counts' Series is grouped by the values from the 'user_ratings' Series, which represents the number of ratings for each user. The resulting Series, 'users_with_ratings', counts the number of users for each number of ratings.\n",
    "\n",
    "4. `rating_thresholds = list(range(5, 100, 5))`: This line creates a list of rating count thresholds ranging from 5 to 100 (exclusive) with a step size of 5.\n",
    "\n",
    "5. The subsequent block of code calculates the number of users with fewer than X ratings for each threshold in 'rating_thresholds'. It iterates over the thresholds, subtracting the previous count to calculate the count of users falling below each threshold. The counts are appended to the 'count_per_threshold' list.\n",
    "\n",
    "6. `percent_per_threshold = [round((count / total_users) * 100) for count in count_per_threshold]`: This line calculates the percentage of the whole user base for each count in 'count_per_threshold' and stores the results in the 'percent_per_threshold' list. The percentages are rounded to the nearest whole number.\n",
    "\n",
    "7. Finally, a DataFrame named 'df' is created using a dictionary with keys 'fewer than X', 'count', and 'percent', corresponding to the rating thresholds, user counts, and percentages, respectively. The DataFrame captures the information about the number of users with fewer than X ratings for each threshold.\n",
    "\n",
    "The resulting DataFrame is then printed."
   ]
  },
  {
   "cell_type": "code",
   "execution_count": null,
   "metadata": {},
   "outputs": [],
   "source": [
    "user_ratings = ratings.groupby('user_id')['rating'].count()\n",
    "user_rating_counts = ratings['user_id'].value_counts()\n",
    "# Count the number of users for each number of ratings\n",
    "users_with_ratings = user_rating_counts.groupby(user_ratings).count()\n",
    "# Create a list of rating count thresholds\n",
    "rating_thresholds = list(range(5, 100, 5))\n",
    "\n",
    "# Count the number of users with fewer than X ratings, excluding the previous ranks\n",
    "count_per_threshold = []\n",
    "previous_count = 0\n",
    "total_users = 53424  # Total number of users\n",
    "for threshold in rating_thresholds:\n",
    "    count = user_ratings[user_ratings < threshold].count() - previous_count\n",
    "    count_per_threshold.append(count)\n",
    "    previous_count += count\n",
    "\n",
    "# Calculate the percentage of the whole user base\n",
    "percent_per_threshold = [round((count / total_users) * 100) for count in count_per_threshold]\n",
    "\n",
    "# Create the DataFrame\n",
    "df = pd.DataFrame({\"fewer than X\": rating_thresholds, \"count\": count_per_threshold, \"percent\": percent_per_threshold})\n",
    "\n",
    "# Print the DataFrame\n",
    "(df)\n"
   ]
  },
  {
   "attachments": {},
   "cell_type": "markdown",
   "metadata": {},
   "source": [
    "### Filtering and Preparing User Data\n",
    "\n",
    "The following code snippet performs the following tasks:\n",
    "\n",
    "#### Filter Out Users with Few Ratings\n",
    "\n",
    "The code filters out users with a rating count below a specified threshold. In this case, the threshold is set to 10. Users who have fewer than 10 ratings will be excluded from the analysis."
   ]
  },
  {
   "cell_type": "code",
   "execution_count": null,
   "metadata": {},
   "outputs": [],
   "source": [
    "filter_out= 15\n",
    "filtered_ratings = ratings[~ratings['user_id'].isin(user_rating_counts[user_rating_counts < filter_out].index.tolist())]\n",
    "filtered_ratings.loc[:, 'user_id'] = filtered_ratings.groupby('user_id').ngroup()\n",
    "# Get unique user IDs from the ratings data\n",
    "\n",
    "\n",
    "# Count the number of ratings per user\n",
    "rating_counts = filtered_ratings.groupby('user_id').size().reset_index(name='rating_count')\n",
    "\n",
    "# Create the users DataFrame\n",
    "users = pd.DataFrame(rating_counts)\n",
    "ratings = filtered_ratings\n",
    "users['new_data'] = False\n",
    "users.head()"
   ]
  },
  {
   "attachments": {},
   "cell_type": "markdown",
   "metadata": {},
   "source": [
    "Save the new filtered ratings to the .csv and the new users df"
   ]
  },
  {
   "cell_type": "code",
   "execution_count": null,
   "metadata": {},
   "outputs": [],
   "source": [
    "ratings.to_csv('ratings.csv',index=False)\n",
    "users.to_csv('users.csv',index=False)"
   ]
  },
  {
   "cell_type": "code",
   "execution_count": null,
   "metadata": {},
   "outputs": [],
   "source": [
    "books=pd.read_csv('books.csv')"
   ]
  },
  {
   "attachments": {},
   "cell_type": "markdown",
   "metadata": {},
   "source": [
    "# Searching for Book Cover Images and Amazon Links\n",
    "\n",
    "This code snippet retrieves book cover images and Amazon links for books in the books DataFrame.\n",
    "\n",
    "1. It iterates over each row in the DataFrame and checks if the amazon_link starts with 'https://www.amazon.com/'.\n",
    "\n",
    "2. If not, it performs a Google search for the book cover image using the book title.\n",
    "\n",
    "3. The book title is processed by removing special characters and spaces, converting to lowercase, and replacing spaces with hyphens.\n",
    "4. The search term is constructed and a GET request is sent to the Google Custom Search API.\n",
    "5. The response is parsed as JSON and the list of search results items is retrieved.\n",
    "6. It checks each item for a scraped item with an image link, and if found, assigns it to image_url.\n",
    "7. It also checks for an Amazon link in the items, assigns it to amazon_link if found, and stops the search process.\n",
    "8. Finally, it updates the image_url and amazon_link columns in the books DataFrame.\n",
    "This code enhances the books DataFrame by adding book cover images and corresponding Amazon links for books that did not have valid Amazon links initially."
   ]
  },
  {
   "cell_type": "code",
   "execution_count": null,
   "metadata": {},
   "outputs": [],
   "source": [
    "#API_key\n",
    "with open('../api_key', 'rb') as key_file:\n",
    "    api_key = key_file.read().decode()\n",
    "with open('../search_engine_id', 'rb') as key_file:\n",
    "    search_engine_id = key_file.read().decode()\n",
    "\n",
    "for index, row in books.iterrows():\n",
    "    amazon_link = str(row['amazon_link'])\n",
    "\n",
    "    if not amazon_link.startswith('https://www.amazon.com/'):\n",
    "        book_title = row['title']\n",
    "        # Remove special characters and spaces\n",
    "        search_title = re.sub(r'[^\\w\\s-]', '', book_title)\n",
    "\n",
    "        # Replace spaces with hyphens\n",
    "        search_title = re.sub(r'\\s', '+', search_title)\n",
    "\n",
    "        # Convert to lowercase\n",
    "        \n",
    "        search_title = search_title.lower()\n",
    "        search_term = f\"{search_title}+book+cover+amazon\"\n",
    "        # Construct the search URL\n",
    "        search_url = f\"https://www.googleapis.com/customsearch/v1?key={api_key}&cx={search_engine_id}&q={search_term}\"\n",
    "        # Perform the search and retrieve the image URLs\n",
    "        response = requests.get(search_url)\n",
    "        search_results = response.json()\n",
    "        items = search_results.get(\"items\", [])  # Get the list of items from the search results\n",
    "\n",
    "        image_url = None\n",
    "\n",
    "        for item in items:\n",
    "            pagemap = item.get(\"pagemap\", {})  # Get the pagemap dictionary of the item\n",
    "            scraped = pagemap.get(\"scraped\", [])  # Get the list of scraped items\n",
    "\n",
    "            if scraped:\n",
    "                image_link = scraped[0].get(\"image_link\")  # Get the image link from the scraped item\n",
    "                if image_link:\n",
    "                    image_url = image_link  # Found an image link, assign it to image_url\n",
    "\n",
    "                link = item.get(\"link\")  # Get the link from the item\n",
    "                if link and link.startswith('https://www.amazon.com/'):\n",
    "                    amazon_link = link  # Found an Amazon link, assign it to amazon_link\n",
    "                    break    \n",
    "        books.at[index, 'image_url'] = image_url\n",
    "        books.at[index, 'amazon_link'] = amazon_link\n"
   ]
  },
  {
   "attachments": {},
   "cell_type": "markdown",
   "metadata": {},
   "source": [
    "Save the edited df to their csvs"
   ]
  },
  {
   "cell_type": "code",
   "execution_count": null,
   "metadata": {},
   "outputs": [],
   "source": [
    "ratings.to_csv('ratings.csv',index=False)\n",
    "books.to_csv('books.csv',index=False)\n",
    "users.to_csv('users.csv',index=False)\n"
   ]
  }
 ],
 "metadata": {
  "kernelspec": {
   "display_name": "rtx_env",
   "language": "python",
   "name": "python3"
  },
  "language_info": {
   "codemirror_mode": {
    "name": "ipython",
    "version": 3
   },
   "file_extension": ".py",
   "mimetype": "text/x-python",
   "name": "python",
   "nbconvert_exporter": "python",
   "pygments_lexer": "ipython3",
   "version": "3.10.11"
  },
  "orig_nbformat": 4
 },
 "nbformat": 4,
 "nbformat_minor": 2
}
