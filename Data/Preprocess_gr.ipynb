{
 "cells": [
  {
   "attachments": {},
   "cell_type": "markdown",
   "metadata": {},
   "source": [
    "# Εισαγωγή των απαραίτητων βιβλιοθηκών\n",
    "- Pandas: Χρησιμοποιείται για την επεξεργασία και ανάλυση δεδομένων.\n",
    "- Requests: Χρησιμοποιείται για την αποστολή HTTP αιτημάτων και την αλληλεπίδραση με διαδικτυακές διεπαφές προγραμματισμού εφαρμογών (APIs).\n",
    "- Re: Παρέχει υποστήριξη για τις κανονικές εκφράσεις στην Python."
   ]
  },
  {
   "cell_type": "code",
   "execution_count": null,
   "metadata": {},
   "outputs": [],
   "source": [
    "import pandas as pd\n",
    "import requests, re"
   ]
  },
  {
   "attachments": {},
   "cell_type": "markdown",
   "metadata": {},
   "source": [
    "# Φόρτωση δεδομένων\n",
    "Το απόσπασμα κώδικα διαβάζει τα δεδομένα από δύο αρχεία CSV, το `ratings.csv` και το `books.csv`, και δημιουργεί pandas DataFrames.\n",
    "\n",
    "1. `pd.read_csv('training/ratings.csv')`: Αυτή η γραμμή διαβάζει τα δεδομένα από το αρχείο `ratings.csv` που βρίσκεται στη διαδρομή `'.training/ratings.csv'` χρησιμοποιώντας τη συνάρτηση `pd.read_csv()` από τη βιβλιοθήκη pandas. Τα δεδομένα φορτώνονται σε ένα DataFrame με όνομα `ratings`.\n",
    "\n",
    "2. `pd.read_csv('training/books.csv')`: Αντίστοιχα, αυτή η γραμμή διαβάζει τα δεδομένα από το αρχείο `books.csv` που βρίσκεται στη διαδρομή `'training/books.csv'` και τα αποθηκεύει σε ένα DataFrame με όνομα `books`.\n",
    "\n",
    "Με την εκτέλεση αυτού του κώδικα, το DataFrame `ratings` γεμίζει με τα δεδομένα από το αρχείο `ratings.csv`, το DataFrame `books` γεμίζει με τα δεδομένα από το αρχείο `books.csv`"
   ]
  },
  {
   "cell_type": "code",
   "execution_count": null,
   "metadata": {},
   "outputs": [],
   "source": [
    "ratings = pd.read_csv('training/ratings.csv')\n",
    "books = pd.read_csv('training/books.csv')"
   ]
  },
  {
   "attachments": {},
   "cell_type": "markdown",
   "metadata": {},
   "source": [
    "Εκτύπωση Σύνοψης Δεδομένων"
   ]
  },
  {
   "cell_type": "code",
   "execution_count": 1,
   "metadata": {},
   "outputs": [
    {
     "ename": "NameError",
     "evalue": "name 'ratings' is not defined",
     "output_type": "error",
     "traceback": [
      "\u001b[1;31m---------------------------------------------------------------------------\u001b[0m",
      "\u001b[1;31mNameError\u001b[0m                                 Traceback (most recent call last)",
      "Cell \u001b[1;32mIn[1], line 1\u001b[0m\n\u001b[1;32m----> 1\u001b[0m \u001b[39mprint\u001b[39m(ratings\u001b[39m.\u001b[39mhead())\n\u001b[0;32m      2\u001b[0m \u001b[39mprint\u001b[39m(ratings\u001b[39m.\u001b[39mdescribe())\n",
      "\u001b[1;31mNameError\u001b[0m: name 'ratings' is not defined"
     ]
    }
   ],
   "source": [
    "print(ratings.head())\n",
    "print(ratings.describe())"
   ]
  },
  {
   "cell_type": "code",
   "execution_count": null,
   "metadata": {},
   "outputs": [],
   "source": [
    "print(books.head())\n",
    "print(books.describe())"
   ]
  },
  {
   "attachments": {},
   "cell_type": "markdown",
   "metadata": {},
   "source": [
    "# Ανάλυση Αξιολογήσεων Χρηστών και Ορίζοντες Αριθμού Αξιολογήσεων\n",
    "\n",
    "- Ανάλυση Αξιολογήσεων Χρηστών\n",
    "\n",
    "Αυτό το τμήμα κώδικα αναλύει τις αξιολογήσεις των χρηστών μετρώντας τον αριθμό των αξιολογήσεων ανά χρήστη και υπολογίζοντας ορίζοντες αριθμού αξιολογήσεων. Έπειτα, μετρά τον αριθμό των χρηστών με λιγότερες από X αξιολογήσεις και υπολογίζει το ποσοστό του συνόλου των χρηστών για κάθε όριο. Τέλος, δημιουργεί και εκτυπώνει ένα DataFrame που περιλαμβάνει τα αποτελέσματα."
   ]
  },
  {
   "cell_type": "code",
   "execution_count": null,
   "metadata": {},
   "outputs": [],
   "source": [
    "user_ratings = ratings.groupby('user_id')['rating'].count()\n",
    "user_rating_counts = ratings['user_id'].value_counts()\n",
    "users_with_ratings = user_rating_counts.groupby(user_ratings).count()\n",
    "rating_thresholds = list(range(5, 100, 5))\n",
    "\n",
    "count_per_threshold = []\n",
    "previous_count = 0\n",
    "total_users = 53424  \n",
    "for threshold in rating_thresholds:\n",
    "    count = user_ratings[user_ratings < threshold].count() - previous_count\n",
    "    count_per_threshold.append(count)\n",
    "    previous_count += count\n",
    "\n",
    "percent_per_threshold = [round((count / total_users) * 100) for count in count_per_threshold]\n",
    "\n",
    "df = pd.DataFrame({\"fewer than X\": rating_thresholds, \"count\": count_per_threshold, \"percent\": percent_per_threshold})\n",
    "\n",
    "(df)\n"
   ]
  },
  {
   "attachments": {},
   "cell_type": "markdown",
   "metadata": {},
   "source": [
    "- Φιλτράρισμα Χρηστών με βάση τον Αριθμό Αξιολογήσεων\n",
    "\n",
    "Αυτό το τμήμα κώδικα φιλτράρει τους χρήστες με λιγότερες από έναν καθορισμένο αριθμό αξιολογήσεων. Δημιουργεί ένα νέο DataFrame με την ονομασία filtered_ratings αποκλείοντας τους χρήστες των οποίων ο αριθμός αξιολογήσεων είναι μικρότερος από το όριο φίλτρου. Στη συνέχεια, αναθέτει νέα αναγνωριστικά χρήστη βασισμένα στον ομαδοποιημένο δείκτη των αναγνωριστικών χρηστών.\n",
    "\n",
    "Στη συνέχεια, μετρά τον αριθμό των αξιολογήσεων ανά χρήστη στο DataFrame filtered_ratings χρησιμοποιώντας τις συναρτήσεις groupby() και size(). Το αποτέλεσμα αποθηκεύεται σε ένα νέο DataFrame με την ονομασία rating_counts.\n",
    "\n",
    "Τέλος, δημιουργεί ένα DataFrame με την ονομασία users αναθέτοντας σε αυτό το DataFrame το rating_counts. Προσθέτει επίσης μια νέα στήλη με την ονομασία 'new_data' που έχει την τιμή False. Στη συνέχεια, εμφανίζονται οι πρώτες γραμμές του DataFrame users."
   ]
  },
  {
   "cell_type": "code",
   "execution_count": null,
   "metadata": {},
   "outputs": [],
   "source": [
    "filter_out= 15\n",
    "filtered_ratings = ratings[~ratings['user_id'].isin(user_rating_counts[user_rating_counts < filter_out].index.tolist())]\n",
    "filtered_ratings.loc[:, 'user_id'] = filtered_ratings.groupby('user_id').ngroup()\n",
    "\n",
    "\n",
    "rating_counts = filtered_ratings.groupby('user_id').size().reset_index(name='rating_count')\n",
    "\n",
    "users = pd.DataFrame(rating_counts)\n",
    "ratings = filtered_ratings\n",
    "users['new_data'] = False\n",
    "users.head()"
   ]
  },
  {
   "cell_type": "code",
   "execution_count": null,
   "metadata": {},
   "outputs": [],
   "source": [
    "books=pd.read_csv('books.csv')"
   ]
  },
  {
   "attachments": {},
   "cell_type": "markdown",
   "metadata": {},
   "source": [
    "# Αναζήτηση για Εικόνες Εξωφύλλων Βιβλίων και Συνδέσμους Amazon\n",
    "\n",
    "Αυτό το τμήμα κώδικα ανακτά εικόνες εξωφύλλων βιβλίων και συνδέσμους Amazon για τα βιβλία στο DataFrame των βιβλίων.\n",
    "\n",
    "1. Επαναλαμβάνεται για κάθε γραμμή στο DataFrame και ελέγχει αν ο σύνδεσμος amazon_link ξεκινά με 'https://www.amazon.com/'.\n",
    "\n",
    "2. Αν όχι, πραγματοποιεί αναζήτηση Google για την εικόνα εξωφύλλου του βιβλίου χρησιμοποιώντας τον τίτλο του βιβλίου.\n",
    "\n",
    "3. Ο τίτλος του βιβλίου επεξεργάζεται αφαιρώντας ειδικούς χαρακτήρες και κενά, μετατρέπεται σε πεζά γράμματα και αντικαθίσταται τα κενά με παύλες.\n",
    "\n",
    "4. Δημιουργείται ο όρος αναζήτησης και αποστέλλεται ένα αίτημα GET στο Google Custom Search API.\n",
    "\n",
    "5. Η απόκριση αναλύεται ως JSON και ανακτώνται οι λίστες στοιχείων αποτελεσμάτων αναζήτησης.\n",
    "\n",
    "6. Ελέγχει κάθε στοιχείο για ένα στοιχείο που έχει εκχύλισμα με σύνδεσμο εικόνας και, αν βρεθεί, τον αναθέτει στο image_url.\n",
    "\n",
    "7. Επίσης, ελέγχει αν υπάρχει ένας σύνδεσμος Amazon στα στοιχεία και, αν βρεθεί, τον αναθέτει στο amazon_link και σταματά τη διαδικασία αναζήτησης.\n",
    "\n",
    "8. Τέλος, ενημερώνονται οι στήλες image_url και amazon_link στο DataFrame των βιβλίων.\n",
    "\n",
    "Αυτός ο κώδικας ενισχύει το DataFrame των βιβλίων προσθέτοντας εικόνες εξωφύλλων βιβλίων και τους αντίστοιχους συνδέσμους Amazon για τα βιβλία που αρχικά δεν είχαν έγκυρους συνδέσμους Amazon."
   ]
  },
  {
   "cell_type": "code",
   "execution_count": null,
   "metadata": {},
   "outputs": [],
   "source": [
    "#API_key\n",
    "with open('../api_key', 'rb') as key_file:\n",
    "    api_key = key_file.read().decode()\n",
    "with open('../search_engine_id', 'rb') as key_file:\n",
    "    search_engine_id = key_file.read().decode()\n",
    "\n",
    "for index, row in books.iterrows():\n",
    "    amazon_link = str(row['amazon_link'])\n",
    "\n",
    "    if not amazon_link.startswith('https://www.amazon.com/'):\n",
    "        book_title = row['title']\n",
    "        # Remove special characters and spaces\n",
    "        search_title = re.sub(r'[^\\w\\s-]', '', book_title)\n",
    "\n",
    "        # Replace spaces with hyphens\n",
    "        search_title = re.sub(r'\\s', '+', search_title)\n",
    "\n",
    "        # Convert to lowercase\n",
    "        \n",
    "        search_title = search_title.lower()\n",
    "        search_term = f\"{search_title}+book+cover+amazon\"\n",
    "        # Construct the search URL\n",
    "        search_url = f\"https://www.googleapis.com/customsearch/v1?key={api_key}&cx={search_engine_id}&q={search_term}\"\n",
    "        # Perform the search and retrieve the image URLs\n",
    "        response = requests.get(search_url)\n",
    "        search_results = response.json()\n",
    "        items = search_results.get(\"items\", [])  # Get the list of items from the search results\n",
    "\n",
    "        image_url = None\n",
    "\n",
    "        for item in items:\n",
    "            pagemap = item.get(\"pagemap\", {})  # Get the pagemap dictionary of the item\n",
    "            scraped = pagemap.get(\"scraped\", [])  # Get the list of scraped items\n",
    "\n",
    "            if scraped:\n",
    "                image_link = scraped[0].get(\"image_link\")  # Get the image link from the scraped item\n",
    "                if image_link:\n",
    "                    image_url = image_link  # Found an image link, assign it to image_url\n",
    "\n",
    "                link = item.get(\"link\")  # Get the link from the item\n",
    "                if link and link.startswith('https://www.amazon.com/'):\n",
    "                    amazon_link = link  # Found an Amazon link, assign it to amazon_link\n",
    "                    break    \n",
    "        books.at[index, 'image_url'] = image_url\n",
    "        books.at[index, 'amazon_link'] = amazon_link\n"
   ]
  },
  {
   "cell_type": "code",
   "execution_count": null,
   "metadata": {},
   "outputs": [],
   "source": [
    "ratings.to_csv('ratings.csv',index=False)\n",
    "books.to_csv('books.csv',index=False)\n",
    "users.to_csv('users.csv',index=False)\n"
   ]
  }
 ],
 "metadata": {
  "kernelspec": {
   "display_name": "rtx_env",
   "language": "python",
   "name": "python3"
  },
  "language_info": {
   "codemirror_mode": {
    "name": "ipython",
    "version": 3
   },
   "file_extension": ".py",
   "mimetype": "text/x-python",
   "name": "python",
   "nbconvert_exporter": "python",
   "pygments_lexer": "ipython3",
   "version": "3.10.11"
  },
  "orig_nbformat": 4
 },
 "nbformat": 4,
 "nbformat_minor": 2
}
